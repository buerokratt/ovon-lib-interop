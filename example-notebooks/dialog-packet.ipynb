{
 "cells": [
  {
   "attachments": {},
   "cell_type": "markdown",
   "metadata": {},
   "source": [
    "# Example interface into dialog packets.\n",
    "\n",
    "## Load the API library"
   ]
  },
  {
   "cell_type": "code",
   "execution_count": 1,
   "metadata": {},
   "outputs": [],
   "source": [
    "!export PYTHONPATH=\"$PYTHONPATH:($pwd)/..\""
   ]
  },
  {
   "cell_type": "code",
   "execution_count": 2,
   "metadata": {},
   "outputs": [],
   "source": [
    "import os\n",
    "import sys\n",
    "fpath = os.path.join(os.getcwd(), '..')\n",
    "sys.path.append(fpath)\n",
    "import utils.dialog_event as de"
   ]
  },
  {
   "attachments": {},
   "cell_type": "markdown",
   "metadata": {},
   "source": [
    "# Intract with a dialog event programattically\n",
    "\n",
    "In this example we show how a dialog event can be built using code, interrogated using code, and saved to YML and JSON for consumption by another component"
   ]
  },
  {
   "cell_type": "code",
   "execution_count": 3,
   "metadata": {},
   "outputs": [
    {
     "name": "stdout",
     "output_type": "stream",
     "text": [
      "packet: {'mime-type': 'text/plain', 'lang': 'en', 'encoding': 'utf-8', 'tokens': [[{'value': 'what is the weather forecast for tomorrow?', 'confidence': 0.99}], [{'value': 'what is the weather forecast for tuesday?', 'confidence': 0.87}]]}\n",
      "text1: what is the weather forecast for tomorrow? confidence1: 0.99\n",
      "text2: what is the weather forecast for tuesday?\n"
     ]
    }
   ],
   "source": [
    "#Create a dialog event\n",
    "d=de.DialogEvent()\n",
    "d.id='user-utterance-45'\n",
    "d.speaker_id=\"user1234\"\n",
    "d.previous_id='user-utterance-44'\n",
    "\n",
    "#Now add a text feature with two alternate values\n",
    "f=de.TextFeature(lang='en',encoding='utf-8',p='suprise!')\n",
    "d.add_feature('user-request-text',f)\n",
    "f.add_token_group()\n",
    "f.add_token(value='what is the weather forecast for tomorrow?',confidence=0.99)\n",
    "f.add_token_group()\n",
    "f.add_token(value='what is the weather forecast for tuesday?',confidence=0.87)\n",
    "\n",
    "#Now save the dialog event to YML and JSON\n",
    "with open(\"../sample-json/utterance0.json\", \"w\") as file: d.dump_json(file)\n",
    "with open(\"../sample-yaml/utterance0.yml\", \"w\")  as file: d.dump_yml(file)\n",
    "\n",
    "#Now interrogate this object\n",
    "\n",
    "text1=d.get_feature('user-request-text').get_token().value\n",
    "confidence1=d.get_feature('user-request-text').get_token().confidence\n",
    "t2=d.get_feature('user-request-text').get_token(0,1)\n",
    "\n",
    "#Look at some of the variables\n",
    "print(f'packet: {f.packet}')\n",
    "print(f'text1: {text1} confidence1: {confidence1}')\n",
    "print(f'text2: {t2.value} confidence1: {t2.confidence}')"
   ]
  },
  {
   "cell_type": "code",
   "execution_count": 4,
   "metadata": {},
   "outputs": [
    {
     "name": "stdout",
     "output_type": "stream",
     "text": [
      "Converting: utterance1.yml\n",
      "Converting: utterance2.yml\n",
      "Converting: utterance3.yml\n",
      "Converting: utterance4.yml\n"
     ]
    }
   ],
   "source": [
    "import utils.dialog_event as de\n",
    "\n",
    "d=de.DialogEvent()\n",
    "stems=['utterance1','utterance2','utterance3','utterance4']\n",
    "for s in stems:\n",
    "    print(f'Converting: {s}.yml')\n",
    "    with open(f'../sample-yaml/{s}.yml', 'r') as f: d.load_yml(f)\n",
    "    with open(f'../sample-json/{s}.json', \"w\") as f: d.dump_json(f)"
   ]
  },
  {
   "cell_type": "code",
   "execution_count": 5,
   "metadata": {},
   "outputs": [
    {
     "ename": "AttributeError",
     "evalue": "'DialogEvent' object has no attribute 'to_xml'",
     "output_type": "error",
     "traceback": [
      "\u001b[0;31m---------------------------------------------------------------------------\u001b[0m",
      "\u001b[0;31mAttributeError\u001b[0m                            Traceback (most recent call last)",
      "\u001b[0;32m<ipython-input-5-ede1ff65606e>\u001b[0m in \u001b[0;36m<module>\u001b[0;34m\u001b[0m\n\u001b[1;32m      9\u001b[0m     \u001b[0md\u001b[0m\u001b[0;34m.\u001b[0m\u001b[0mdump_json\u001b[0m\u001b[0;34m(\u001b[0m\u001b[0mf\u001b[0m\u001b[0;34m)\u001b[0m\u001b[0;34m\u001b[0m\u001b[0;34m\u001b[0m\u001b[0m\n\u001b[1;32m     10\u001b[0m \u001b[0;34m\u001b[0m\u001b[0m\n\u001b[0;32m---> 11\u001b[0;31m \u001b[0mtree\u001b[0m\u001b[0;34m=\u001b[0m\u001b[0md\u001b[0m\u001b[0;34m.\u001b[0m\u001b[0mto_xml\u001b[0m\u001b[0;34m(\u001b[0m\u001b[0;34m\"ssml-markup\"\u001b[0m\u001b[0;34m)\u001b[0m\u001b[0;34m\u001b[0m\u001b[0;34m\u001b[0m\u001b[0m\n\u001b[0m\u001b[1;32m     12\u001b[0m \u001b[0mtree\u001b[0m\u001b[0;34m.\u001b[0m\u001b[0mwrite\u001b[0m\u001b[0;34m(\u001b[0m\u001b[0;34m'utterance3.xml'\u001b[0m\u001b[0;34m,\u001b[0m \u001b[0mxml_declaration\u001b[0m\u001b[0;34m=\u001b[0m\u001b[0;32mTrue\u001b[0m\u001b[0;34m,\u001b[0m \u001b[0mencoding\u001b[0m\u001b[0;34m=\u001b[0m\u001b[0;34m'utf-8'\u001b[0m\u001b[0;34m)\u001b[0m\u001b[0;34m\u001b[0m\u001b[0;34m\u001b[0m\u001b[0m\n",
      "\u001b[0;31mAttributeError\u001b[0m: 'DialogEvent' object has no attribute 'to_xml'"
     ]
    }
   ],
   "source": [
    "import utils.dialog_event as de\n",
    "\n",
    "d=de.DialogEvent()\n",
    "\n",
    "with open('../sample-yaml/utterance3.yml', 'r') as f:\n",
    "    d.load_yml(f)\n",
    "\n",
    "with open(\"../sample-json/utterance3.json\", \"w\") as f:\n",
    "    d.dump_json(f)\n",
    "\n",
    "tree=d.to_xml(\"ssml-markup\")\n",
    "tree.write('utterance3.xml', xml_declaration=True, encoding='utf-8')"
   ]
  },
  {
   "cell_type": "code",
   "execution_count": null,
   "metadata": {},
   "outputs": [],
   "source": [
    "import utils.dialog_event as de\n",
    "\n",
    "d=de.DialogEvent()\n",
    "\n",
    "with open('../sample-yaml/utterance3.yml', 'r') as f:\n",
    "    d.load_yml(f)\n",
    "\n",
    "with open(\"../sample-json/utterance4.json\", \"w\") as f:\n",
    "    d.dump_json(f)\n",
    "\n",
    "tree=d.to_xml(\"ssml-markup\")\n",
    "tree.write('utterance3.xml', xml_declaration=True, encoding='utf-8')"
   ]
  },
  {
   "cell_type": "code",
   "execution_count": null,
   "metadata": {},
   "outputs": [],
   "source": [
    "import utils.dialog_event as de\n",
    "\n",
    "d=de.DialogEvent()\n",
    "\n",
    "with open('../sample-yaml/utterance3.yml', 'r') as f:\n",
    "    d.load_yml(f)\n",
    "\n",
    "with open(\"../sample-json/utterance3.json\", \"w\") as f:\n",
    "    d.dump_json(f)\n",
    "\n",
    "tree=d.to_xml(\"ssml-markup\")\n",
    "tree.write('utterance3.xml', xml_declaration=True, encoding='utf-8')"
   ]
  }
 ],
 "metadata": {
  "kernelspec": {
   "display_name": "Python 3",
   "language": "python",
   "name": "python3"
  },
  "language_info": {
   "codemirror_mode": {
    "name": "ipython",
    "version": 3
   },
   "file_extension": ".py",
   "mimetype": "text/x-python",
   "name": "python",
   "nbconvert_exporter": "python",
   "pygments_lexer": "ipython3",
   "version": "3.8.10"
  },
  "orig_nbformat": 4,
  "vscode": {
   "interpreter": {
    "hash": "31f2aee4e71d21fbe5cf8b01ff0e069b9275f58929596ceb00d14d90e3e16cd6"
   }
  }
 },
 "nbformat": 4,
 "nbformat_minor": 2
}
