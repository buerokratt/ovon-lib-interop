{
 "cells": [
  {
   "attachments": {},
   "cell_type": "markdown",
   "metadata": {},
   "source": [
    "# Validate our example JSON against our schemas\n",
    "\n",
    "# Validate JSON Dialog Events\n",
    "The following code takes all of the sample dialog events in `sample-json` and validates them against the schema `/schemas/dialog-event.json`"
   ]
  },
  {
   "cell_type": "code",
   "execution_count": 1,
   "metadata": {},
   "outputs": [
    {
     "name": "stdout",
     "output_type": "stream",
     "text": [
      "Validating JSON: utterance0.json\n",
      "Validating JSON: utterance1.json\n",
      "Validating JSON: utterance2.json\n",
      "Validating JSON: utterance3.json\n",
      "Validating JSON: utterance4.json\n"
     ]
    }
   ],
   "source": [
    "from jsonschema import validate\n",
    "import json\n",
    "\n",
    "with open(\"../schemas/dialog-event.json\", 'r') as f:\n",
    "    schema = json.load(f)\n",
    "\n",
    "stems=['utterance0','utterance1','utterance2','utterance3','utterance4']\n",
    "for s in stems:\n",
    "    print(f'Validating JSON: {s}.json')\n",
    "    with open(f'../sample-json/{s}.json', 'r') as f:     \n",
    "        instance = json.load(f)\n",
    "        validate(instance=instance, schema=schema)     "
   ]
  },
  {
   "attachments": {},
   "cell_type": "markdown",
   "metadata": {},
   "source": [
    "## Validate YML Dialog Events\n",
    "Then to prove that JSON schemas can be used to validate YML.  This code validates the YML that the JSON was generated from.  \n",
    "\n",
    "NOTE: This only works if we remove the \"string\" type definition for date-time values in the schema. This is becuase the YML loader detects and converts ISO date times in a datetime object which is not supported bythe JSON validator.  This can probably be fixed by adding a custom handler into the `yaml.safe_load()` function to map datetime objects to be strings."
   ]
  },
  {
   "cell_type": "code",
   "execution_count": 27,
   "metadata": {},
   "outputs": [
    {
     "name": "stdout",
     "output_type": "stream",
     "text": [
      "Validating YAML: utterance0.yml\n",
      "Validating YAML: utterance1.yml\n",
      "Validating YAML: utterance2.yml\n",
      "Validating YAML: utterance3.yml\n",
      "Validating YAML: utterance4.yml\n"
     ]
    }
   ],
   "source": [
    "from jsonschema import validate\n",
    "import yaml\n",
    "import json\n",
    "\n",
    "with open(\"../schemas/dialog-event.json\", 'r') as f:\n",
    "    schema = json.load(f)\n",
    "\n",
    "stems=['utterance0','utterance1','utterance2','utterance3','utterance4']\n",
    "for s in stems:\n",
    "    print(f'Validating YAML: {s}.yml')\n",
    "    with open(f'../sample-yaml/{s}.yml', 'r') as f:     \n",
    "        instance = yaml.safe_load(f)\n",
    "        validate(instance=instance, schema=schema)     "
   ]
  }
 ],
 "metadata": {
  "kernelspec": {
   "display_name": "Python 3",
   "language": "python",
   "name": "python3"
  },
  "language_info": {
   "codemirror_mode": {
    "name": "ipython",
    "version": 3
   },
   "file_extension": ".py",
   "mimetype": "text/x-python",
   "name": "python",
   "nbconvert_exporter": "python",
   "pygments_lexer": "ipython3",
   "version": "3.8.10"
  },
  "orig_nbformat": 4,
  "vscode": {
   "interpreter": {
    "hash": "31f2aee4e71d21fbe5cf8b01ff0e069b9275f58929596ceb00d14d90e3e16cd6"
   }
  }
 },
 "nbformat": 4,
 "nbformat_minor": 2
}
