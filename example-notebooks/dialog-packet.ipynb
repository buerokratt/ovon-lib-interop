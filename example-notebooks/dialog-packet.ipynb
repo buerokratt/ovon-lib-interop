{
 "cells": [
  {
   "cell_type": "markdown",
   "metadata": {},
   "source": [
    "#Example interface into dialog packets."
   ]
  },
  {
   "cell_type": "code",
   "execution_count": 3,
   "metadata": {},
   "outputs": [],
   "source": [
    "!export PYTHONPATH=\"$PYTHONPATH:($pwd)/..\""
   ]
  },
  {
   "cell_type": "code",
   "execution_count": 4,
   "metadata": {},
   "outputs": [
    {
     "ename": "SyntaxError",
     "evalue": "invalid syntax (dialog_event.py, line 230)",
     "output_type": "error",
     "traceback": [
      "Traceback \u001b[0;36m(most recent call last)\u001b[0m:\n",
      "  File \u001b[1;32m\"/home/david/.local/lib/python3.8/site-packages/IPython/core/interactiveshell.py\"\u001b[0m, line \u001b[1;32m3441\u001b[0m, in \u001b[1;35mrun_code\u001b[0m\n    exec(code_obj, self.user_global_ns, self.user_ns)\n",
      "  File \u001b[1;32m\"<ipython-input-4-283c8e4da02c>\"\u001b[0m, line \u001b[1;32m5\u001b[0m, in \u001b[1;35m<module>\u001b[0m\n    import utils.dialog_event as de\n",
      "\u001b[0;36m  File \u001b[0;32m\"/mnt/c/WORK-AREA/Discourse/Code/github/lib-interop/example-notebooks/../utils/__init__.py\"\u001b[0;36m, line \u001b[0;32m1\u001b[0;36m, in \u001b[0;35m<module>\u001b[0;36m\u001b[0m\n\u001b[0;31m    from utils.dialog_event import DialogEvent as DialogEvent\u001b[0m\n",
      "\u001b[0;36m  File \u001b[0;32m\"/mnt/c/WORK-AREA/Discourse/Code/github/lib-interop/example-notebooks/../utils/dialog_event.py\"\u001b[0;36m, line \u001b[0;32m230\u001b[0m\n\u001b[0;31m    def add_token(self, **kwargs,token_class=DialogEventToken):\u001b[0m\n\u001b[0m                                 ^\u001b[0m\n\u001b[0;31mSyntaxError\u001b[0m\u001b[0;31m:\u001b[0m invalid syntax\n"
     ]
    }
   ],
   "source": [
    "import os\n",
    "import sys\n",
    "fpath = os.path.join(os.getcwd(), '..')\n",
    "sys.path.append(fpath)\n",
    "import utils.dialog_event as de"
   ]
  },
  {
   "attachments": {},
   "cell_type": "markdown",
   "metadata": {},
   "source": [
    "# Create a dialog event programattically\n",
    "\n",
    "In this example we show how a dialog event can be built using code and then saved to YML and JSON for consumption by another component"
   ]
  },
  {
   "cell_type": "code",
   "execution_count": null,
   "metadata": {},
   "outputs": [],
   "source": [
    "d=de.DialogEvent()\n",
    "\n",
    "d.id='user-utterance-45'\n",
    "d.speaker_id=\"user1234\"\n",
    "d.previous_id='user-utterance-44'\n",
    "f=d.add_feature('user-request-text',mime_type='text/plain',lang='en',encoding='utf-8')\n",
    "f.add_token_group()\n",
    "f.add_token(value='what is the weather forecast for tomorrow?',confidence=0.99)\n",
    "f.add_token_group()\n",
    "f.add_token(value='what is the weather forecast for tuesday?',confidence=0.87)\n",
    "\n",
    "with open(\"../sample-json/utterance0.json\", \"w\") as f: d.dump_json(f)\n",
    "with open(\"../sample-yaml/utterance0.yml\", \"w\")  as f: d.dump_yml(f)"
   ]
  },
  {
   "cell_type": "code",
   "execution_count": null,
   "metadata": {},
   "outputs": [],
   "source": [
    "import utils.dialog_event as de\n",
    "\n",
    "d=de.DialogEvent()\n",
    "\n",
    "with open('../sample-yaml/utterance1.yml', 'r') as f:\n",
    "    d.load_yml(f)\n",
    "\n",
    "with open(\"../sample-json/utterance1.json\", \"w\") as f:\n",
    "    d.dump_json(f)\n"
   ]
  },
  {
   "cell_type": "code",
   "execution_count": null,
   "metadata": {},
   "outputs": [],
   "source": [
    "import utils.dialog_event as de\n",
    "\n",
    "d=de.DialogEvent()\n",
    "\n",
    "with open('../sample-yaml/utterance2.yml', 'r') as f:\n",
    "    d.load_yml(f)\n",
    "\n",
    "with open(\"../sample-json/utterance2.json\", \"w\") as f:\n",
    "    d.dump_json(f)"
   ]
  },
  {
   "cell_type": "code",
   "execution_count": null,
   "metadata": {},
   "outputs": [
    {
     "name": "stdout",
     "output_type": "stream",
     "text": [
      "[{'value': 'and'}, {'value': 'how'}, {'value': 'are'}, {'value': 'you'}, {'value': 'feeling'}, {'value': 'today'}, {'value': 'Tom'}]\n",
      "token-link feature:system-output-tokens, tokens: [6]\n",
      "p: <Element 'speak' at 0x7f8835eb8220>\n",
      "p: <Element 'token' at 0x7f8838f68c70>\n",
      "p: <Element 'token' at 0x7f883537d090>\n",
      "p: <Element 'token' at 0x7f883537d7c0>\n",
      "p: <Element 'token' at 0x7f883537d400>\n",
      "p: <Element 'token' at 0x7f883537d2c0>\n",
      "p: <Element 'token' at 0x7f883537d590>\n",
      "p: <Element 'token' at 0x7f883537d680>\n"
     ]
    },
    {
     "ename": "ValueError",
     "evalue": "not enough values to unpack (expected 2, got 0)",
     "output_type": "error",
     "traceback": [
      "\u001b[0;31m---------------------------------------------------------------------------\u001b[0m",
      "\u001b[0;31mValueError\u001b[0m                                Traceback (most recent call last)",
      "\u001b[0;32m<ipython-input-6-ede1ff65606e>\u001b[0m in \u001b[0;36m<module>\u001b[0;34m\u001b[0m\n\u001b[1;32m      9\u001b[0m     \u001b[0md\u001b[0m\u001b[0;34m.\u001b[0m\u001b[0mdump_json\u001b[0m\u001b[0;34m(\u001b[0m\u001b[0mf\u001b[0m\u001b[0;34m)\u001b[0m\u001b[0;34m\u001b[0m\u001b[0;34m\u001b[0m\u001b[0m\n\u001b[1;32m     10\u001b[0m \u001b[0;34m\u001b[0m\u001b[0m\n\u001b[0;32m---> 11\u001b[0;31m \u001b[0mtree\u001b[0m\u001b[0;34m=\u001b[0m\u001b[0md\u001b[0m\u001b[0;34m.\u001b[0m\u001b[0mto_xml\u001b[0m\u001b[0;34m(\u001b[0m\u001b[0;34m\"ssml-markup\"\u001b[0m\u001b[0;34m)\u001b[0m\u001b[0;34m\u001b[0m\u001b[0;34m\u001b[0m\u001b[0m\n\u001b[0m\u001b[1;32m     12\u001b[0m \u001b[0mtree\u001b[0m\u001b[0;34m.\u001b[0m\u001b[0mwrite\u001b[0m\u001b[0;34m(\u001b[0m\u001b[0;34m'utterance3.xml'\u001b[0m\u001b[0;34m,\u001b[0m \u001b[0mxml_declaration\u001b[0m\u001b[0;34m=\u001b[0m\u001b[0;32mTrue\u001b[0m\u001b[0;34m,\u001b[0m \u001b[0mencoding\u001b[0m\u001b[0;34m=\u001b[0m\u001b[0;34m'utf-8'\u001b[0m\u001b[0;34m)\u001b[0m\u001b[0;34m\u001b[0m\u001b[0;34m\u001b[0m\u001b[0m\n",
      "\u001b[0;32m/mnt/c/WORK-AREA/Discourse/Code/github/lib-interop/example-notebooks/../utils/dialog_event.py\u001b[0m in \u001b[0;36mto_xml\u001b[0;34m(self, xml_feature)\u001b[0m\n\u001b[1;32m    163\u001b[0m                     \u001b[0mprint_iter_index\u001b[0m\u001b[0;34m(\u001b[0m\u001b[0mroot\u001b[0m\u001b[0;34m)\u001b[0m\u001b[0;34m\u001b[0m\u001b[0;34m\u001b[0m\u001b[0m\n\u001b[1;32m    164\u001b[0m                     \u001b[0mstart_child\u001b[0m \u001b[0;34m=\u001b[0m \u001b[0mroot\u001b[0m\u001b[0;34m.\u001b[0m\u001b[0mfind\u001b[0m\u001b[0;34m(\u001b[0m\u001b[0;34mf'.//*[@ix=\"{start_ix}\"]'\u001b[0m\u001b[0;34m)\u001b[0m\u001b[0;34m\u001b[0m\u001b[0;34m\u001b[0m\u001b[0m\n\u001b[0;32m--> 165\u001b[0;31m                     \u001b[0mstart_root_index\u001b[0m\u001b[0;34m=\u001b[0m\u001b[0mget_iter_index\u001b[0m\u001b[0;34m(\u001b[0m\u001b[0mstart_child\u001b[0m\u001b[0;34m,\u001b[0m\u001b[0mroot\u001b[0m\u001b[0;34m)\u001b[0m\u001b[0;34m\u001b[0m\u001b[0;34m\u001b[0m\u001b[0m\n\u001b[0m\u001b[1;32m    166\u001b[0m                     \u001b[0mend_child\u001b[0m\u001b[0;34m=\u001b[0m \u001b[0mroot\u001b[0m\u001b[0;34m.\u001b[0m\u001b[0mfind\u001b[0m\u001b[0;34m(\u001b[0m\u001b[0;34mf'.//*[@ix=\"{end_ix}\"]'\u001b[0m\u001b[0;34m)\u001b[0m\u001b[0;34m\u001b[0m\u001b[0;34m\u001b[0m\u001b[0m\n\u001b[1;32m    167\u001b[0m                     \u001b[0mend_root_index\u001b[0m\u001b[0;34m=\u001b[0m\u001b[0mget_iter_index\u001b[0m\u001b[0;34m(\u001b[0m\u001b[0mend_child\u001b[0m\u001b[0;34m,\u001b[0m\u001b[0mroot\u001b[0m\u001b[0;34m)\u001b[0m\u001b[0;34m\u001b[0m\u001b[0;34m\u001b[0m\u001b[0m\n",
      "\u001b[0;32m/mnt/c/WORK-AREA/Discourse/Code/github/lib-interop/example-notebooks/../utils/dialog_event.py\u001b[0m in \u001b[0;36mget_iter_index\u001b[0;34m(find_element, host_element)\u001b[0m\n\u001b[1;32m    185\u001b[0m     \u001b[0mparent_map\u001b[0m \u001b[0;34m=\u001b[0m \u001b[0;34m{\u001b[0m\u001b[0mc\u001b[0m\u001b[0;34m:\u001b[0m \u001b[0mp\u001b[0m \u001b[0;32mfor\u001b[0m \u001b[0mp\u001b[0m \u001b[0;32min\u001b[0m \u001b[0mhost_element\u001b[0m\u001b[0;34m.\u001b[0m\u001b[0mgetiterator\u001b[0m\u001b[0;34m(\u001b[0m\u001b[0;34m)\u001b[0m \u001b[0;32mfor\u001b[0m \u001b[0mc\u001b[0m \u001b[0;32min\u001b[0m \u001b[0mp\u001b[0m\u001b[0;34m}\u001b[0m\u001b[0;34m\u001b[0m\u001b[0;34m\u001b[0m\u001b[0m\n\u001b[1;32m    186\u001b[0m \u001b[0;34m\u001b[0m\u001b[0m\n\u001b[0;32m--> 187\u001b[0;31m     \u001b[0;32mfor\u001b[0m \u001b[0mf\u001b[0m\u001b[0;34m,\u001b[0m\u001b[0mv\u001b[0m \u001b[0;32min\u001b[0m \u001b[0mparent_map\u001b[0m\u001b[0;34m:\u001b[0m\u001b[0;34m\u001b[0m\u001b[0;34m\u001b[0m\u001b[0m\n\u001b[0m\u001b[1;32m    188\u001b[0m         \u001b[0mprint\u001b[0m \u001b[0;34m(\u001b[0m\u001b[0;34mf'f: {f} v: {v}'\u001b[0m\u001b[0;34m)\u001b[0m\u001b[0;34m\u001b[0m\u001b[0;34m\u001b[0m\u001b[0m\n\u001b[1;32m    189\u001b[0m \u001b[0;34m\u001b[0m\u001b[0m\n",
      "\u001b[0;31mValueError\u001b[0m: not enough values to unpack (expected 2, got 0)"
     ]
    }
   ],
   "source": [
    "import utils.dialog_event as de\n",
    "\n",
    "d=de.DialogEvent()\n",
    "\n",
    "with open('../sample-yaml/utterance3.yml', 'r') as f:\n",
    "    d.load_yml(f)\n",
    "\n",
    "with open(\"../sample-json/utterance3.json\", \"w\") as f:\n",
    "    d.dump_json(f)\n",
    "\n",
    "tree=d.to_xml(\"ssml-markup\")\n",
    "tree.write('utterance3.xml', xml_declaration=True, encoding='utf-8')"
   ]
  },
  {
   "cell_type": "code",
   "execution_count": null,
   "metadata": {},
   "outputs": [
    {
     "ename": "AttributeError",
     "evalue": "'NoneType' object has no attribute 'get'",
     "output_type": "error",
     "traceback": [
      "\u001b[0;31m---------------------------------------------------------------------------\u001b[0m",
      "\u001b[0;31mAttributeError\u001b[0m                            Traceback (most recent call last)",
      "\u001b[0;32m<ipython-input-3-b822a485b429>\u001b[0m in \u001b[0;36m<module>\u001b[0;34m\u001b[0m\n\u001b[1;32m      9\u001b[0m     \u001b[0md\u001b[0m\u001b[0;34m.\u001b[0m\u001b[0mdump_json\u001b[0m\u001b[0;34m(\u001b[0m\u001b[0mf\u001b[0m\u001b[0;34m)\u001b[0m\u001b[0;34m\u001b[0m\u001b[0;34m\u001b[0m\u001b[0m\n\u001b[1;32m     10\u001b[0m \u001b[0;34m\u001b[0m\u001b[0m\n\u001b[0;32m---> 11\u001b[0;31m \u001b[0mtree\u001b[0m\u001b[0;34m=\u001b[0m\u001b[0md\u001b[0m\u001b[0;34m.\u001b[0m\u001b[0mto_xml\u001b[0m\u001b[0;34m(\u001b[0m\u001b[0;34m\"ssml-markup\"\u001b[0m\u001b[0;34m)\u001b[0m\u001b[0;34m\u001b[0m\u001b[0;34m\u001b[0m\u001b[0m\n\u001b[0m\u001b[1;32m     12\u001b[0m \u001b[0mtree\u001b[0m\u001b[0;34m.\u001b[0m\u001b[0mwrite\u001b[0m\u001b[0;34m(\u001b[0m\u001b[0;34m'utterance3.xml'\u001b[0m\u001b[0;34m,\u001b[0m \u001b[0mxml_declaration\u001b[0m\u001b[0;34m=\u001b[0m\u001b[0;32mTrue\u001b[0m\u001b[0;34m,\u001b[0m \u001b[0mencoding\u001b[0m\u001b[0;34m=\u001b[0m\u001b[0;34m'utf-8'\u001b[0m\u001b[0;34m)\u001b[0m\u001b[0;34m\u001b[0m\u001b[0;34m\u001b[0m\u001b[0m\n",
      "\u001b[0;32m/mnt/c/WORK-AREA/Discourse/Code/github/lib-interop/example-notebooks/../utils/dialog_event.py\u001b[0m in \u001b[0;36mto_xml\u001b[0;34m(self, xml_feature)\u001b[0m\n\u001b[1;32m    119\u001b[0m         \u001b[0m_features\u001b[0m\u001b[0;34m=\u001b[0m\u001b[0mself\u001b[0m\u001b[0;34m.\u001b[0m\u001b[0m_packet\u001b[0m\u001b[0;34m.\u001b[0m\u001b[0mget\u001b[0m\u001b[0;34m(\u001b[0m\u001b[0;34m'features'\u001b[0m\u001b[0;34m,\u001b[0m\u001b[0;32mNone\u001b[0m\u001b[0;34m)\u001b[0m\u001b[0;34m\u001b[0m\u001b[0;34m\u001b[0m\u001b[0m\n\u001b[1;32m    120\u001b[0m         \u001b[0m_feature\u001b[0m\u001b[0;34m=\u001b[0m\u001b[0m_features\u001b[0m\u001b[0;34m.\u001b[0m\u001b[0mget\u001b[0m\u001b[0;34m(\u001b[0m\u001b[0mxml_feature\u001b[0m\u001b[0;34m,\u001b[0m\u001b[0;32mNone\u001b[0m\u001b[0;34m)\u001b[0m\u001b[0;34m\u001b[0m\u001b[0;34m\u001b[0m\u001b[0m\n\u001b[0;32m--> 121\u001b[0;31m         \u001b[0m_feature_tokens\u001b[0m\u001b[0;34m=\u001b[0m\u001b[0m_feature\u001b[0m\u001b[0;34m.\u001b[0m\u001b[0mget\u001b[0m\u001b[0;34m(\u001b[0m\u001b[0;34m'tokens'\u001b[0m\u001b[0;34m,\u001b[0m\u001b[0;32mNone\u001b[0m\u001b[0;34m)\u001b[0m\u001b[0;34m\u001b[0m\u001b[0;34m\u001b[0m\u001b[0m\n\u001b[0m\u001b[1;32m    122\u001b[0m \u001b[0;34m\u001b[0m\u001b[0m\n\u001b[1;32m    123\u001b[0m         \u001b[0;31m#root token is first token\u001b[0m\u001b[0;34m\u001b[0m\u001b[0;34m\u001b[0m\u001b[0;34m\u001b[0m\u001b[0m\n",
      "\u001b[0;31mAttributeError\u001b[0m: 'NoneType' object has no attribute 'get'"
     ]
    }
   ],
   "source": [
    "import utils.dialog_event as de\n",
    "\n",
    "d=de.DialogEvent()\n",
    "\n",
    "with open('../sample-yaml/utterance4.yml', 'r') as f:\n",
    "    d.load_yml(f)\n",
    "\n",
    "with open(\"../sample-json/utterance4.json\", \"w\") as f:\n",
    "    d.dump_json(f)\n",
    "\n",
    "tree=d.to_xml(\"ssml-markup\")\n",
    "tree.write('utterance3.xml', xml_declaration=True, encoding='utf-8')"
   ]
  }
 ],
 "metadata": {
  "kernelspec": {
   "display_name": "Python 3",
   "language": "python",
   "name": "python3"
  },
  "language_info": {
   "codemirror_mode": {
    "name": "ipython",
    "version": 3
   },
   "file_extension": ".py",
   "mimetype": "text/x-python",
   "name": "python",
   "nbconvert_exporter": "python",
   "pygments_lexer": "ipython3",
   "version": "3.8.10 (default, Jun  2 2021, 10:49:15) \n[GCC 9.4.0]"
  },
  "orig_nbformat": 4,
  "vscode": {
   "interpreter": {
    "hash": "31f2aee4e71d21fbe5cf8b01ff0e069b9275f58929596ceb00d14d90e3e16cd6"
   }
  }
 },
 "nbformat": 4,
 "nbformat_minor": 2
}
