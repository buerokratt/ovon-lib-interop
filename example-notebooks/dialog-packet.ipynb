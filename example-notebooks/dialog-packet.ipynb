{
 "cells": [
  {
   "attachments": {},
   "cell_type": "markdown",
   "metadata": {},
   "source": [
    "# Example interface into dialog packets.\n",
    "\n",
    "## Load the API library"
   ]
  },
  {
   "cell_type": "code",
   "execution_count": 1,
   "metadata": {},
   "outputs": [],
   "source": [
    "!export PYTHONPATH=\"$PYTHONPATH:($pwd)/..\""
   ]
  },
  {
   "cell_type": "code",
   "execution_count": 2,
   "metadata": {},
   "outputs": [],
   "source": [
    "import os\n",
    "import sys\n",
    "fpath = os.path.join(os.getcwd(), '..')\n",
    "sys.path.append(fpath)\n",
    "import utils.dialog_event as de"
   ]
  },
  {
   "attachments": {},
   "cell_type": "markdown",
   "metadata": {},
   "source": [
    "# Intract with a dialog event programattically\n",
    "\n",
    "In this example we show how a dialog event can be built using code, interrogated using code, and saved to YML and JSON for consumption by another component"
   ]
  },
  {
   "cell_type": "code",
   "execution_count": 3,
   "metadata": {},
   "outputs": [
    {
     "name": "stdout",
     "output_type": "stream",
     "text": [
      "self._packet[ELMNT_SPAN]: {}\n",
      "self._packet[ELMNT_SPAN]: {'start': '2022-12-20 15:59:01.246500+00:00', 'end-offset': 'PT0.1045'}\n",
      "self.span:{'start': '2022-12-20 15:59:01.246500+00:00', 'end-offset': 'PT0.1045'}\n",
      "dialog packet: {'id': 'user-utterance-45', 'speaker-id': 'user1234', 'previous-id': 'user-utterance-44', 'span': {'start': '2022-12-20 15:59:01.246500+00:00', 'end-offset': 'PT0.1045'}, 'features': {'user-request-text': {'mime-type': 'text/plain', 'lang': 'en', 'encoding': 'utf-8', 'tokens': [{'value': 'what is the weather forecast for tomorrow?', 'confidence': 0.99}, {'value': 'what is the weather forecast for tuesday?', 'confidence': 0.87}]}}}\n",
      "packet: {'mime-type': 'text/plain', 'lang': 'en', 'encoding': 'utf-8', 'tokens': [{'value': 'what is the weather forecast for tomorrow?', 'confidence': 0.99}, {'value': 'what is the weather forecast for tuesday?', 'confidence': 0.87}]}\n",
      "text1: what is the weather forecast for tomorrow? confidence1: 0.99\n",
      "text2: what is the weather forecast for tuesday? confidence1: 0.87\n"
     ]
    }
   ],
   "source": [
    "#Create a dialog event\n",
    "d=de.DialogEvent()\n",
    "d.id='user-utterance-45'\n",
    "d.speaker_id=\"user1234\"\n",
    "d.previous_id='user-utterance-44'\n",
    "s=de.Span()\n",
    "s.start=\"2022-12-20 15:59:01.246500+00:00\"\n",
    "s.end_offset=\"PT0.1045\"\n",
    "d.add_span(s)\n",
    "\n",
    "#Now add a text feature with two alternate values\n",
    "f=de.TextFeature(lang='en',encoding='utf-8')\n",
    "d.add_feature('user-request-text',f)\n",
    "f.add_token(value='what is the weather forecast for tomorrow?',confidence=0.99)\n",
    "f.add_token(value='what is the weather forecast for tuesday?',confidence=0.87)\n",
    "print(f'dialog packet: {d.packet}')\n",
    "\n",
    "## now send this out to the world\n",
    "\n",
    "#Now save the dialog event to YML and JSON\n",
    "with open(\"../sample-json/utterance0.json\", \"w\") as file: d.dump_json(file)\n",
    "#with open(\"../sample-yaml/utterance0.yml\", \"w\")  as file: d.dump_yml(file)\n",
    "\n",
    "# receive it from the world\n",
    "\n",
    "#Now interrogate this object\n",
    "text1=d.get_feature('user-request-text').get_token().value\n",
    "confidence1=d.get_feature('user-request-text').get_token().confidence\n",
    "t2=d.get_feature('user-request-text').get_token(1)\n",
    "\n",
    "#Look at some of the variables\n",
    "print(f'packet: {f.packet}')\n",
    "print(f'text1: {text1} confidence1: {confidence1}')\n",
    "print(f'text2: {t2.value} confidence1: {t2.confidence}')"
   ]
  },
  {
   "cell_type": "code",
   "execution_count": 4,
   "metadata": {},
   "outputs": [
    {
     "name": "stdout",
     "output_type": "stream",
     "text": [
      "Converting: utterance0.json\n",
      "Converting: utterance4a.json\n",
      "Converting: utterance5.json\n"
     ]
    }
   ],
   "source": [
    "import utils.dialog_event as de\n",
    "\n",
    "d=de.DialogEvent()\n",
    "stems=['utterance0','utterance4a','utterance5']\n",
    "for s in stems:\n",
    "    print(f'Converting: {s}.json')\n",
    "    with open(f'../sample-json/{s}.json', 'r')  as f: d.load_json(f)\n",
    "    with open(f'../sample-yaml/{s}.yml', \"w\") as f: d.dump_yml(f)"
   ]
  },
  {
   "cell_type": "code",
   "execution_count": 5,
   "metadata": {},
   "outputs": [
    {
     "name": "stdout",
     "output_type": "stream",
     "text": [
      "{'history': [{'id': 'user-utterance-45', 'speaker-id': 'user1234', 'previous-id': 'user-utterance-44', 'time-span': {'start': '2022-12-20 15:59:01.246500+00:00', 'end-offset': '1045ms'}, 'features': {'user-request-text': {'mime-type': 'text/plain', 'lang': 'en', 'encoding': 'utf-8', 'tokens': [{'value': 'what is the weather forecast for tomorrow?'}]}}}, {'id': 'user-utterance-45', 'speaker-id': 'user1234', 'previous-id': 'user-utterance-44', 'time-span': {'start': '2022-12-20 15:59:01.246500+00:00', 'end-offset': '1045ms'}, 'features': {'user-request-text': {'mime-type': 'text/plain', 'lang': 'en', 'encoding': 'utf-8', 'tokens': [{'value': 'what is the weather forecast for tomorrow?'}]}}}, {'id': 'user-utterance-45', 'speaker-id': 'user1234', 'previous-id': 'user-utterance-44', 'time-span': {'start': '2022-12-20 15:59:01.246500+00:00', 'end-offset': '1045ms'}, 'features': {'user-request-text': {'mime-type': 'text/plain', 'lang': 'en', 'encoding': 'utf-8', 'tokens': [{'value': 'what is the weather forecast for tomorrow?'}]}}}, {'id': 'user-utterance-45', 'speaker-id': 'user1234', 'previous-id': 'user-utterance-44', 'time-span': {'start': '2022-12-20 15:59:01.246500+00:00', 'end-offset': '1045ms'}, 'features': {'user-request-text': {'mime-type': 'text/plain', 'lang': 'en', 'encoding': 'utf-8', 'tokens': [{'value': 'what is the weather forecast for tomorrow?'}]}}}, {'id': 'user-utterance-45', 'speaker-id': 'user1234', 'previous-id': 'user-utterance-44', 'time-span': {'start': '2022-12-20 15:59:01.246500+00:00', 'end-offset': '1045ms'}, 'features': {'user-request-text': {'mime-type': 'text/plain', 'lang': 'en', 'encoding': 'utf-8', 'tokens': [{'value': 'what is the weather forecast for tomorrow?'}]}}}]}\n"
     ]
    }
   ],
   "source": [
    "h=de.History()\n",
    "h.add_event(d)\n",
    "h.add_event(d)\n",
    "h.add_event(d)\n",
    "h.add_event(d)\n",
    "h.add_event(d)\n",
    "print(h.packet)\n",
    "with open(\"../sample-json/history1.json\", \"w\") as file: h.dump_json(file)\n"
   ]
  }
 ],
 "metadata": {
  "kernelspec": {
   "display_name": "Python 3",
   "language": "python",
   "name": "python3"
  },
  "language_info": {
   "codemirror_mode": {
    "name": "ipython",
    "version": 3
   },
   "file_extension": ".py",
   "mimetype": "text/x-python",
   "name": "python",
   "nbconvert_exporter": "python",
   "pygments_lexer": "ipython3",
   "version": "3.8.10"
  },
  "orig_nbformat": 4,
  "vscode": {
   "interpreter": {
    "hash": "31f2aee4e71d21fbe5cf8b01ff0e069b9275f58929596ceb00d14d90e3e16cd6"
   }
  }
 },
 "nbformat": 4,
 "nbformat_minor": 2
}
